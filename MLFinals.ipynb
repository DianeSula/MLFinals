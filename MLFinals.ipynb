{
 "cells": [
  {
   "cell_type": "markdown",
   "metadata": {},
   "source": [
    "## Dataset"
   ]
  },
  {
   "cell_type": "code",
   "execution_count": null,
   "metadata": {},
   "outputs": [],
   "source": [
    "import pandas as pd\n",
    "import numpy as np\n",
    "import matplotlib.pyplot as plt\n",
    "import seaborn as sns\n",
    "import datetime as dt\n",
    "\n",
    "df = pd.read_csv('/content/drive/Shareddrives/FINALS DATASETS/sales_data.csv')"
   ]
  },
  {
   "cell_type": "markdown",
   "metadata": {},
   "source": [
    "## EDA"
   ]
  },
  {
   "cell_type": "code",
   "execution_count": null,
   "metadata": {},
   "outputs": [],
   "source": [
    "import seaborn as sns\n",
    "import matplotlib.pyplot as plt\n",
    "\n",
    "sns.pairplot(df)"
   ]
  },
  {
   "cell_type": "markdown",
   "metadata": {},
   "source": [
    "## Modelling"
   ]
  },
  {
   "cell_type": "markdown",
   "metadata": {},
   "source": [
    "### Customer Segmentation"
   ]
  },
  {
   "cell_type": "code",
   "execution_count": null,
   "metadata": {},
   "outputs": [],
   "source": [
    "import pandas as pd\n",
    "import numpy as np\n",
    "from sklearn.cluster import KMeans\n",
    "import matplotlib.pyplot as plt\n",
    "import seaborn as sns\n",
    "\n",
    "# Define the number of rows for your dataset\n",
    "num_rows = 1000\n",
    "\n",
    "# Seed for reproducibility\n",
    "np.random.seed(0)\n",
    "\n",
    "# Generate customer IDs\n",
    "customer_ids = np.random.randint(1000, 2000, size=num_rows)\n",
    "\n",
    "# Generate food item names and corresponding types\n",
    "food_items = ['Cheeseburger', 'French Fries', 'Pizza Slice', 'Salad', 'Soft Drink', 'Ice Cream']\n",
    "food_types = ['Fast Food', 'Fast Food', 'Fast Food', 'Healthy', 'Beverage', 'Dessert']\n",
    "food_type_dict = dict(zip(food_items, food_types))\n",
    "\n",
    "# Generate random data for food sales\n",
    "food_data = {\n",
    "    'Customer ID': customer_ids,\n",
    "    'Food Item': np.random.choice(food_items, size=num_rows),\n",
    "    'Price': np.round(np.random.uniform(1.0, 10.0, size=num_rows), 2),\n",
    "    'Quantity Sold': np.random.randint(1, 10, size=num_rows)\n",
    "}\n",
    "\n",
    "# Calculate sales\n",
    "food_data['Sales'] = food_data['Price'] * food_data['Quantity Sold']\n",
    "\n",
    "# Create a DataFrame\n",
    "df = pd.DataFrame(food_data)\n",
    "\n",
    "# Aggregate data by customer\n",
    "customer_data = df.groupby('Customer ID').agg({\n",
    "    'Sales': 'sum',\n",
    "    'Quantity Sold': 'sum'\n",
    "}).reset_index()\n",
    "\n",
    "# Perform K-means clustering\n",
    "X = customer_data[['Sales', 'Quantity Sold']]\n",
    "\n",
    "# Choose the number of clusters\n",
    "kmeans = KMeans(n_clusters=4, random_state=0)\n",
    "customer_data['Cluster'] = kmeans.fit_predict(X)\n",
    "\n",
    "# Print the cluster centers\n",
    "print(\"Cluster Centers:\")\n",
    "print(kmeans.cluster_centers_)\n",
    "\n",
    "# Plot the clusters\n",
    "plt.figure(figsize=(10, 6))\n",
    "sns.scatterplot(data=customer_data, x='Sales', y='Quantity Sold', hue='Cluster', palette='viridis')\n",
    "plt.xlabel('Total Sales')\n",
    "plt.ylabel('Total Quantity Sold')\n",
    "plt.title('Customer Segmentation using K-means Clustering')\n",
    "plt.legend(title='Cluster')\n",
    "plt.show()\n"
   ]
  },
  {
   "cell_type": "markdown",
   "metadata": {},
   "source": [
    "## Questions"
   ]
  },
  {
   "cell_type": "markdown",
   "metadata": {},
   "source": [
    "### What can you say about the model?"
   ]
  },
  {
   "cell_type": "markdown",
   "metadata": {},
   "source": [
    "The model implemented here is a K-means clustering model. K-means clustering is an unsupervised learning algorithm used to segment a dataset into distinct groups (clusters) based on feature similarities. Here’s a breakdown of what the model does:\n",
    "\n",
    "1. Data Preparation:\n",
    " - The dataset is aggregated by Customer ID to calculate the total sales and total quantity sold for each customer.\n",
    "2.  Clustering:\n",
    "- K-means is applied to segment customers into four clusters based on their total sales and total quantity sold.\n",
    "- The number of clusters (n_clusters=4) is chosen arbitrarily and might need tuning based on the data's characteristics.\n",
    "3.  Visualization:\n",
    "- The resulting clusters are visualized using a scatter plot, which helps understand how customers are segmented based on sales and quantity sold."
   ]
  },
  {
   "cell_type": "markdown",
   "metadata": {},
   "source": [
    "## Is it a good model?"
   ]
  },
  {
   "cell_type": "markdown",
   "metadata": {},
   "source": [
    "The goodness of a K-means model can be evaluated using several metrics and considerations:\n",
    "\n",
    "1. Cluster Centers:\n",
    "- The cluster centers (centroids) give insights into the average characteristics of each cluster. For example, some clusters might have higher average sales and quantities sold, indicating high-value customers.\n",
    "\n",
    "2. Silhouette Score:\n",
    "- A higher silhouette score indicates that the clusters are well-separated and distinct. It ranges from -1 to 1, where values closer to 1 mean better-defined clusters.\n",
    "\n",
    "3. Elbow Method:\n",
    "- The elbow method helps determine the optimal number of clusters by plotting the within-cluster sum of squares (WCSS) against the number of clusters. The point where the WCSS starts to diminish significantly is the \"elbow point,\" suggesting an appropriate number of clusters.\n",
    "\n",
    "4. Domain Knowledge:\n",
    "- Understanding the business context and ensuring that the clusters make practical sense is crucial. The clusters should provide actionable insights.\n",
    "\n",
    "Without running these evaluations, it’s hard to definitively say if it’s a good model. However, given that the data preparation and clustering steps are implemented correctly, it’s a reasonable starting point."
   ]
  },
  {
   "cell_type": "markdown",
   "metadata": {},
   "source": [
    "### What happens to Revenue when Expense increases according to the model?"
   ]
  },
  {
   "cell_type": "markdown",
   "metadata": {},
   "source": [
    "\n",
    "\n",
    "If we assume that higher sales volumes (quantity sold) lead to higher expenses due to increased production or procurement costs, then:\n",
    "\n",
    "- Revenue vs. Expense:\n",
    "        If expenses increase with quantity sold, the net revenue (profit) will depend on the margin between revenue and expenses. Ideally, even with increased expenses, if the revenue increases at a higher rate, the model will segment these customers into higher-value clusters."
   ]
  }
 ],
 "metadata": {
  "kernelspec": {
   "display_name": "Python 3",
   "language": "python",
   "name": "python3"
  },
  "language_info": {
   "codemirror_mode": {
    "name": "ipython",
    "version": 3
   },
   "file_extension": ".py",
   "mimetype": "text/x-python",
   "name": "python",
   "nbconvert_exporter": "python",
   "pygments_lexer": "ipython3",
   "version": "3.11.9"
  }
 },
 "nbformat": 4,
 "nbformat_minor": 2
}
